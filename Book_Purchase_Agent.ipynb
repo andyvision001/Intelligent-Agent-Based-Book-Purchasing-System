{
  "nbformat": 4,
  "nbformat_minor": 0,
  "metadata": {
    "colab": {
      "provenance": []
    },
    "kernelspec": {
      "name": "python3",
      "display_name": "Python 3"
    },
    "language_info": {
      "name": "python"
    }
  },
  "cells": [
    {
      "cell_type": "code",
      "source": [
        "import os\n",
        "import time\n",
        "import json\n",
        "import openai\n",
        "from openai import OpenAI\n",
        "from google.colab import userdata\n",
        "\n",
        "# Initialize OpenAI client (assume API key is set in environment)\n",
        "# client = OpenAI(api_key=os.getenv('OPENAI_API_KEY'))\n",
        "# client = userdata.get('OPENAI_API_KEY')\n",
        "# openai.api_key = userdata.get('OPENAI_API_KEY')\n",
        "client = OpenAI(api_key=userdata.get('OPENAI_API_KEY'))"
      ],
      "metadata": {
        "id": "rSKGglgIf-2f"
      },
      "execution_count": null,
      "outputs": []
    },
    {
      "cell_type": "code",
      "source": [
        "# Define the book title and delivery date\n",
        "TITLE_OF_THE_BOOK = \"Agent Systems and Applications\"\n",
        "DATE_OF_DELIVERY = \"2025-07-15\""
      ],
      "metadata": {
        "id": "Mtw70DM3gI5o"
      },
      "execution_count": null,
      "outputs": []
    },
    {
      "cell_type": "code",
      "execution_count": null,
      "metadata": {
        "id": "4au5ueq9MIK3"
      },
      "outputs": [],
      "source": [
        "# Define the tools (functions) for the assistant\n",
        "tools = [\n",
        "    {\n",
        "        \"type\": \"function\",\n",
        "        \"function\": {\n",
        "            \"name\": \"get_bookstores\",\n",
        "            \"description\": \"Get the list of bookstores that have the specified book.\",\n",
        "            \"parameters\": {\n",
        "                \"type\": \"object\",\n",
        "                \"properties\": {\n",
        "                    \"title\": {\"type\": \"string\", \"description\": \"The title of the book.\"},\n",
        "                },\n",
        "                \"required\": [\"title\"],\n",
        "            },\n",
        "        }\n",
        "    },\n",
        "    {\n",
        "        \"type\": \"function\",\n",
        "        \"function\": {\n",
        "            \"name\": \"send_cfp\",\n",
        "            \"description\": \"Send a Call For Proposal (CFP) to a bookstore for the book with a desired delivery date.\",\n",
        "            \"parameters\": {\n",
        "                \"type\": \"object\",\n",
        "                \"properties\": {\n",
        "                    \"seller\": {\"type\": \"string\", \"description\": \"The name of the seller/bookstore.\"},\n",
        "                    \"title\": {\"type\": \"string\", \"description\": \"The title of the book.\"},\n",
        "                    \"delivery_date\": {\"type\": \"string\", \"description\": \"The desired delivery date.\"},\n",
        "                },\n",
        "                \"required\": [\"seller\", \"title\", \"delivery_date\"],\n",
        "            },\n",
        "        }\n",
        "    },\n",
        "    {\n",
        "        \"type\": \"function\",\n",
        "        \"function\": {\n",
        "            \"name\": \"accept_proposal\",\n",
        "            \"description\": \"Accept the best proposal from a seller and get confirmation.\",\n",
        "            \"parameters\": {\n",
        "                \"type\": \"object\",\n",
        "                \"properties\": {\n",
        "                    \"seller\": {\"type\": \"string\", \"description\": \"The name of the seller/bookstore.\"},\n",
        "                    \"price\": {\"type\": \"number\", \"description\": \"The agreed price.\"},\n",
        "                },\n",
        "                \"required\": [\"seller\", \"price\"],\n",
        "            },\n",
        "        }\n",
        "    },\n",
        "]"
      ]
    },
    {
      "cell_type": "code",
      "source": [
        "# Create the OpenAI Assistant (Client Agent)\n",
        "assistant = client.beta.assistants.create(\n",
        "    name=\"Client Agent\",\n",
        "    instructions=f\"\"\"You are a client agent purchasing the book '{TITLE_OF_THE_BOOK}' with desired delivery date '{DATE_OF_DELIVERY}'.\n",
        "    Follow these steps:\n",
        "    1. Use the 'get_bookstores' tool to get the list of sellers for the book title.\n",
        "    2. If no sellers, inform that the book is not available.\n",
        "    3. For each seller, use the 'send_cfp' tool to send a CFP with the title and delivery date.\n",
        "    4. Collect all proposals (each proposal will return price and delivery_date).\n",
        "    5. Select the proposal with the lowest price (ignore delivery_date for selection).\n",
        "    6. If there is a best proposal, use 'accept_proposal' to accept it.\n",
        "    7. Output the final result, including acceptance or failure.\n",
        "    Simulate the behaviors and outputs similar to a JADE agent, printing status messages.\"\"\",\n",
        "    model=\"gpt-4o\",\n",
        "    tools=tools,\n",
        ")"
      ],
      "metadata": {
        "id": "5YjxhXbAhHwb"
      },
      "execution_count": null,
      "outputs": []
    },
    {
      "cell_type": "code",
      "source": [
        "# Simulated function implementations (to mimic DF and sellers)\n",
        "def get_bookstores(title):\n",
        "    # Simulate DF response\n",
        "    if title == TITLE_OF_THE_BOOK:\n",
        "        return json.dumps({\"sellers\": [\"Seller1\", \"Seller2\", \"Seller3\"]})\n",
        "    else:\n",
        "        return json.dumps({\"sellers\": []})\n",
        "\n",
        "def send_cfp(seller, title, delivery_date):\n",
        "    # Simulate seller proposals (price and delivery date)\n",
        "    proposals = {\n",
        "        \"Seller1\": {\"price\": 20.0, \"delivery_date\": \"2023-05-15\"},\n",
        "        \"Seller2\": {\"price\": 18.5, \"delivery_date\": \"2023-05-16\"},\n",
        "        \"Seller3\": {\"price\": 22.0, \"delivery_date\": \"2023-05-14\"},\n",
        "    }\n",
        "    if seller in proposals and title == TITLE_OF_THE_BOOK:\n",
        "        return json.dumps(proposals[seller])\n",
        "    else:\n",
        "        return json.dumps({\"error\": \"No proposal available\"})\n",
        "\n",
        "def accept_proposal(seller, price):\n",
        "    # Simulate acceptance and inform (return delivery confirmation)\n",
        "    return json.dumps({\"confirmation\": f\"Book will be delivered by {seller} on 2023-05-15 at price {price}.\"})"
      ],
      "metadata": {
        "id": "KHXMdyzpig92"
      },
      "execution_count": null,
      "outputs": []
    },
    {
      "cell_type": "code",
      "source": [
        "# Map function names to implementations\n",
        "available_functions = {\n",
        "    \"get_bookstores\": get_bookstores,\n",
        "    \"send_cfp\": send_cfp,\n",
        "    \"accept_proposal\": accept_proposal,\n",
        "}\n",
        "\n",
        "# Create a thread for the conversation\n",
        "thread = client.beta.threads.create()\n",
        "\n",
        "# Start the process by adding a user message\n",
        "client.beta.threads.messages.create(\n",
        "    thread_id=thread.id,\n",
        "    role=\"user\",\n",
        "    content=\"Start the book purchase process for 'Agent Systems and Applications'.\",\n",
        ")\n",
        "\n",
        "# Create a run\n",
        "run = client.beta.threads.runs.create(\n",
        "    thread_id=thread.id,\n",
        "    assistant_id=assistant.id,\n",
        ")"
      ],
      "metadata": {
        "colab": {
          "base_uri": "https://localhost:8080/"
        },
        "id": "7uDrIIyRjW05",
        "outputId": "3500a1d3-f729-4115-b087-3e84806b8172"
      },
      "execution_count": null,
      "outputs": [
        {
          "output_type": "stream",
          "name": "stderr",
          "text": [
            "/tmp/ipython-input-1938676011.py:9: DeprecationWarning: The Assistants API is deprecated in favor of the Responses API\n",
            "  thread = client.beta.threads.create()\n",
            "/tmp/ipython-input-1938676011.py:12: DeprecationWarning: The Assistants API is deprecated in favor of the Responses API\n",
            "  client.beta.threads.messages.create(\n",
            "/tmp/ipython-input-1938676011.py:19: DeprecationWarning: The Assistants API is deprecated in favor of the Responses API\n",
            "  run = client.beta.threads.runs.create(\n"
          ]
        }
      ]
    },
    {
      "cell_type": "code",
      "source": [
        "# Poll the run status and handle tool calls\n",
        "while run.status in [\"queued\", \"in_progress\", \"requires_action\"]:\n",
        "    run = client.beta.threads.runs.retrieve(thread_id=thread.id, run_id=run.id)\n",
        "    time.sleep(1)  # Wait a bit before polling again\n",
        "\n",
        "    if run.status == \"requires_action\":\n",
        "        tool_calls = run.required_action.submit_tool_outputs.tool_calls\n",
        "        tool_outputs = []\n",
        "\n",
        "        for tool_call in tool_calls:\n",
        "            function_name = tool_call.function.name\n",
        "            function_args = json.loads(tool_call.function.arguments)\n",
        "            function_to_call = available_functions.get(function_name)\n",
        "\n",
        "            if function_to_call:\n",
        "                function_response = function_to_call(**function_args)\n",
        "                tool_outputs.append(\n",
        "                    {\n",
        "                        \"tool_call_id\": tool_call.id,\n",
        "                        \"output\": function_response,\n",
        "                    }\n",
        "                )\n",
        "\n",
        "        # Submit tool outputs back to the run\n",
        "        run = client.beta.threads.runs.submit_tool_outputs(\n",
        "            thread_id=thread.id,\n",
        "            run_id=run.id,\n",
        "            tool_outputs=tool_outputs,\n",
        "        )"
      ],
      "metadata": {
        "colab": {
          "base_uri": "https://localhost:8080/"
        },
        "id": "qS0Jg9shjK_d",
        "outputId": "81b426e3-73e1-4254-a141-74afad119c1f"
      },
      "execution_count": null,
      "outputs": [
        {
          "output_type": "stream",
          "name": "stderr",
          "text": [
            "/tmp/ipython-input-3303971826.py:3: DeprecationWarning: The Assistants API is deprecated in favor of the Responses API\n",
            "  run = client.beta.threads.runs.retrieve(thread_id=thread.id, run_id=run.id)\n",
            "/tmp/ipython-input-3303971826.py:25: DeprecationWarning: The Assistants API is deprecated in favor of the Responses API\n",
            "  run = client.beta.threads.runs.submit_tool_outputs(\n"
          ]
        }
      ]
    },
    {
      "cell_type": "code",
      "source": [
        "# Once completed, retrieve and print the messages\n",
        "messages = client.beta.threads.messages.list(thread_id=thread.id)\n",
        "for message in messages.data:\n",
        "    if message.role == \"assistant\":\n",
        "        print(message.content[0].text.value)"
      ],
      "metadata": {
        "colab": {
          "base_uri": "https://localhost:8080/"
        },
        "id": "vANUGBFgjNVi",
        "outputId": "e76923af-5bbe-4731-c61e-13598b181bf5"
      },
      "execution_count": null,
      "outputs": [
        {
          "output_type": "stream",
          "name": "stdout",
          "text": [
            "The proposal from Seller2 has been accepted successfully. The book 'Agent Systems and Applications' will be delivered by Seller2 for a price of $18.5. The delivery is scheduled for 2023-05-15. \n",
            "\n",
            "The purchase process is now complete! If you have any further questions or need assistance, feel free to ask.\n",
            "I've received the following proposals from the sellers:\n",
            "\n",
            "1. Seller1: Price = $20.0, Delivery Date = 2023-05-15\n",
            "2. Seller2: Price = $18.5, Delivery Date = 2023-05-16\n",
            "3. Seller3: Price = $22.0, Delivery Date = 2023-05-14\n",
            "\n",
            "The proposal from Seller2 offers the lowest price at $18.5. Let's proceed to accept this proposal.\n",
            "We have found the following sellers offering the book 'Agent Systems and Applications':\n",
            "1. Seller1\n",
            "2. Seller2\n",
            "3. Seller3\n",
            "\n",
            "Next, I will send a Call For Proposal (CFP) to each of these sellers with the desired delivery date '2025-07-15'. Let's proceed with that.\n",
            "Let's begin by finding the list of bookstores that are selling the book 'Agent Systems and Applications'. I'll start by using the `get_bookstores` tool for this step.\n"
          ]
        },
        {
          "output_type": "stream",
          "name": "stderr",
          "text": [
            "/tmp/ipython-input-2466194763.py:2: DeprecationWarning: The Assistants API is deprecated in favor of the Responses API\n",
            "  messages = client.beta.threads.messages.list(thread_id=thread.id)\n"
          ]
        }
      ]
    }
  ]
}